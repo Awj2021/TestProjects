{
 "cells": [
  {
   "cell_type": "markdown",
   "id": "4a4eb712-ecde-4c72-a13f-032d648614f4",
   "metadata": {},
   "source": [
    "# Testing the Mecial CLIP foundation models. \n",
    "1. Testing CLIP models for zero-shot classification methods.\n",
    "2. QuiltNet: https://huggingface.co/wisdomik/QuiltNet-B-32; Use this medical CLIP for zero classification."
   ]
  },
  {
   "cell_type": "markdown",
   "id": "4766a3e2-da10-4171-b697-7def45a2de1b",
   "metadata": {},
   "source": [
    "## Try the CLIP and Medical CLIP methods."
   ]
  },
  {
   "cell_type": "code",
   "execution_count": null,
   "id": "55b5ec24-18f5-400e-aadd-7bf19d7f6672",
   "metadata": {
    "scrolled": true
   },
   "outputs": [],
   "source": [
    "!pip install clip\n",
    "!pip install open_clip_torch"
   ]
  },
  {
   "cell_type": "code",
   "execution_count": 7,
   "id": "b5e3fb62-a857-423e-98ca-30f221a98a21",
   "metadata": {},
   "outputs": [
    {
     "name": "stdout",
     "output_type": "stream",
     "text": [
      "Torch version: 1.12.1+cu116\n"
     ]
    }
   ],
   "source": [
    "import numpy as np\n",
    "import torch\n",
    "import clip\n",
    "from tqdm.notebook import tqdm\n",
    "from pkg_resources import packaging\n",
    "\n",
    "print(\"Torch version:\", torch.__version__)"
   ]
  },
  {
   "cell_type": "code",
   "execution_count": 4,
   "id": "e6467d9b-ba0a-4347-b70c-c522183f784f",
   "metadata": {},
   "outputs": [
    {
     "name": "stdout",
     "output_type": "stream",
     "text": [
      "Label probs: tensor([[0.2777, 0.4056, 0.1222, 0.1946]])\n"
     ]
    }
   ],
   "source": [
    "import open_clip\n",
    "\n",
    "model, preprocess_train, preprocess_val = open_clip.create_model_and_transforms('hf-hub:wisdomik/QuiltNet-B-32')\n",
    "tokenizer = open_clip.get_tokenizer('hf-hub:wisdomik/QuiltNet-B-32')   # why I need this item?\n",
    "\n",
    "image = Image.open(\"/vol/research/wenjieProject/datasets/chaoyang/train/538849-1-IMG006x019-0.JPG\")\n",
    "image = preprocess_val(image).unsqueeze(0)\n",
    "\n",
    "# text = tokenizer.encode([\"A normal colon slide\", \"A serrated colon slide\", \"A adenocarcinoma colon slide\", \"A adenoma colon slide\"])\n",
    "text = open_clip.tokenize([\"A normal colon slide\", \"A serrated colon slide\", \"A adenocarcinoma colon slide\", \"A adenoma colon slide\"])\n",
    "# text = [tokenizer.encode(t) for t in [\"A normal colon slide\", \"A serrated colon slide\", \"A adenocarcinoma colon slide\", \"A adenoma colon slide\"]]\n",
    "with torch.no_grad():\n",
    "    image_features = model.encode_image(image)\n",
    "    text_features = model.encode_text(text)\n",
    "    image_features /= image_features.norm(dim=-1, keepdim=True)\n",
    "    text_features /= text_features.norm(dim=-1, keepdim=True)\n",
    "\n",
    "    text_probs = (100.0 * image_features @ text_features.T).softmax(dim=-1)\n",
    "\n",
    "print(\"Label probs:\", text_probs)  # prints: [[1., 0., 0.]]"
   ]
  },
  {
   "cell_type": "markdown",
   "id": "254adccf-bdb9-4a93-8e87-bab3e560f012",
   "metadata": {},
   "source": [
    "## Chaoyang Dataset Preparation."
   ]
  },
  {
   "cell_type": "markdown",
   "id": "bedcb823-7558-4a83-b9ff-486790a67a96",
   "metadata": {},
   "source": [
    "## Following the setting of the GuiltNet"
   ]
  },
  {
   "cell_type": "code",
   "execution_count": 39,
   "id": "d4b9b59a-fd74-4882-a945-d16c8ea95d38",
   "metadata": {},
   "outputs": [
    {
     "data": {
      "text/plain": [
       "Compose(\n",
       "    Resize(size=224, interpolation=bicubic, max_size=None, antialias=None)\n",
       "    CenterCrop(size=(224, 224))\n",
       "    <function _convert_to_rgb at 0x7efeb53b1430>\n",
       "    ToTensor()\n",
       "    Normalize(mean=[0.48145466, 0.4578275, 0.40821073], std=[0.26862954, 0.26130258, 0.27577711])\n",
       ")"
      ]
     },
     "execution_count": 39,
     "metadata": {},
     "output_type": "execute_result"
    }
   ],
   "source": [
    "preprocess_val"
   ]
  },
  {
   "cell_type": "code",
   "execution_count": 13,
   "id": "5d0b73b3-fe59-4fbb-be9d-5d87581cb8a4",
   "metadata": {},
   "outputs": [],
   "source": [
    "import torch.utils.data as data\n",
    "from PIL import Image\n",
    "import os\n",
    "import json\n",
    "import numpy as np\n",
    "from torch.utils.data import Dataset\n",
    "from torchvision import datasets, transforms\n",
    "import torch.nn as nn\n",
    "import open_clip\n",
    "from datasets import load_metric"
   ]
  },
  {
   "cell_type": "code",
   "execution_count": 15,
   "id": "20f1131e-0eae-4460-9f1e-868d6e52f3e8",
   "metadata": {},
   "outputs": [],
   "source": [
    "# model.visual.logit_scale.requires_grad_(False)\n",
    "model, preprocess_train, preprocess_val = open_clip.create_model_and_transforms('hf-hub:wisdomik/QuiltNet-B-16')\n",
    "# model.visual.logit_scale.requires_grad_(False)\n",
    "model.visual.predict = nn.Linear(in_features=512, out_features=num_classes)\n",
    "model.visual.predict.weight.data.normal_(mean=0.0, std=0.02)\n",
    "# model.visual.predict.weight.data.normal_(mean=(0.48145466, 0.4578275, 0.40821073), std=(0.26862954, 0.26130258, 0.27577711))\n",
    "model.visual.predict.bias.data.zero_()\n",
    "\n",
    "criterion = nn.CrossEntropyLoss()\n",
    "optimizer = torch.optim.Adam(model.visual.predict.parameters())\n"
   ]
  },
  {
   "cell_type": "code",
   "execution_count": 16,
   "id": "4daf68d5-2904-4368-982e-308a17e664d1",
   "metadata": {},
   "outputs": [],
   "source": [
    "device = torch.device(\"cuda\" if torch.cuda.is_available() else \"cpu\")\n",
    "model = model.to(device)\n",
    "num_classes = 4  # You mentioned you have 4 classes\n",
    "\n",
    "\n",
    "class Chaoyang(Dataset):\n",
    "    def __init__(self, root='', transform=None, is_train=True, input_size=256):\n",
    "        self.transform = transform\n",
    "        self.is_train = is_train\n",
    "        self.input_size = input_size\n",
    "\n",
    "        if not self.is_train:\n",
    "            imgs = []\n",
    "            labels = []\n",
    "            json_path = os.path.join(root, 'json', 'test_split_2.json')\n",
    "            with open(json_path, 'r') as f:\n",
    "                load_list = json.load(f)\n",
    "                for i in range(len(load_list)):\n",
    "                    img_path = os.path.join(root, load_list[i][\"name\"])\n",
    "                    imgs.append(img_path)\n",
    "                    labels.append(int(load_list[i][\"label\"]))\n",
    "            self.test_data, self.test_labels = np.array(imgs), np.array(labels)\n",
    "        else:  # is_train = True => Train.\n",
    "            imgs = []\n",
    "            labels = []\n",
    "            json_path = os.path.join(root, 'json', 'train_split_2.json')\n",
    "            with open(json_path, 'r') as f:\n",
    "                load_list = json.load(f)\n",
    "                for i in range(len(load_list)):\n",
    "                    img_path = os.path.join(root, load_list[i][\"name\"])\n",
    "                    imgs.append(img_path)\n",
    "                    labels.append(int(load_list[i][\"label\"]))\n",
    "            self.train_data, self.train_labels = np.array(imgs), np.array(labels)\n",
    "\n",
    "    \n",
    "    def __getitem__(self, idx):\n",
    "        # In the function of building_dataset, the transform has been set following the is_train.\n",
    "        if self.is_train:\n",
    "            img, label = self.train_data[idx], self.train_labels[idx]\n",
    "            img = Image.open(img)\n",
    "            # img = img.convert('RGB')\n",
    "            # img = Image.open(img).convert('RGB')\n",
    "            img = self.transform(img)\n",
    "            return img, label\n",
    "        else:\n",
    "            img, label = self.test_data[idx], self.test_labels[idx]\n",
    "            # img = Image.open(img).convert('RGB')\n",
    "            # img = img.convert('RGB')\n",
    "            img = Image.open(img)\n",
    "            img = self.transform(img)\n",
    "            return img, label\n",
    "\n",
    "    def __len__(self):\n",
    "        if self.is_train:\n",
    "            return len(self.train_data)\n",
    "        else:\n",
    "            return len(self.test_data)"
   ]
  },
  {
   "cell_type": "code",
   "execution_count": 17,
   "id": "3af6494a-5d51-4ca9-88fe-23afc19b128c",
   "metadata": {},
   "outputs": [],
   "source": [
    "from torch.utils.data import DataLoader\n",
    "from transformers import AdamW\n",
    "\n",
    "root = '/vol/research/wenjieProject/datasets/chaoyang'\n",
    "input_size = 384\n",
    "\n",
    "train_dataset = Chaoyang(root, preprocess_train, is_train=True, input_size=input_size)\n",
    "test_dataset = Chaoyang(root, preprocess_val, is_train=False, input_size=input_size)\n",
    "\n",
    "train_loader = DataLoader(train_dataset, batch_size=8, shuffle=True)\n",
    "test_laoder = DataLoader(test_dataset, batch_size=8, shuffle=False)"
   ]
  },
  {
   "cell_type": "code",
   "execution_count": 12,
   "id": "37b53e50-b9a1-4f35-8035-509657dff7fd",
   "metadata": {},
   "outputs": [
    {
     "name": "stderr",
     "output_type": "stream",
     "text": [
      "/scratch/miniconda3/envs/quilt/lib/python3.9/site-packages/datasets/load.py:756: FutureWarning: The repository for accuracy contains custom code which must be executed to correctly load the metric. You can inspect the repository content at https://raw.githubusercontent.com/huggingface/datasets/2.18.0/metrics/accuracy/accuracy.py\n",
      "You can avoid this message in future by passing the argument `trust_remote_code=True`.\n",
      "Passing `trust_remote_code=True` will be mandatory to load this metric from the next major release of `datasets`.\n",
      "  warnings.warn(\n"
     ]
    },
    {
     "data": {
      "application/json": {
       "ascii": false,
       "bar_format": null,
       "colour": null,
       "elapsed": 0.0023429393768310547,
       "initial": 0,
       "n": 0,
       "ncols": null,
       "nrows": 53,
       "postfix": null,
       "prefix": "",
       "rate": null,
       "total": 503,
       "unit": "it",
       "unit_divisor": 1000,
       "unit_scale": false
      },
      "application/vnd.jupyter.widget-view+json": {
       "model_id": "52e0a54dea4942a080e3403868deae0b",
       "version_major": 2,
       "version_minor": 0
      },
      "text/plain": [
       "  0%|          | 0/503 [00:00<?, ?it/s]"
      ]
     },
     "metadata": {},
     "output_type": "display_data"
    },
    {
     "name": "stdout",
     "output_type": "stream",
     "text": [
      "Epoch 1/20, Loss: 0.3145594000816345, Training accuracy: 0.6913703058940562\n"
     ]
    },
    {
     "data": {
      "application/json": {
       "ascii": false,
       "bar_format": null,
       "colour": null,
       "elapsed": 0.0021104812622070312,
       "initial": 0,
       "n": 0,
       "ncols": null,
       "nrows": 53,
       "postfix": null,
       "prefix": "",
       "rate": null,
       "total": null,
       "unit": "it",
       "unit_divisor": 1000,
       "unit_scale": false
      },
      "application/vnd.jupyter.widget-view+json": {
       "model_id": "884adde9ffc745aebfe96ae09ab2cde1",
       "version_major": 2,
       "version_minor": 0
      },
      "text/plain": [
       "0it [00:00, ?it/s]"
      ]
     },
     "metadata": {},
     "output_type": "display_data"
    },
    {
     "name": "stdout",
     "output_type": "stream",
     "text": [
      "Epoch [1/20]  Accuracy: 0.7328980099502487\n"
     ]
    },
    {
     "data": {
      "application/json": {
       "ascii": false,
       "bar_format": null,
       "colour": null,
       "elapsed": 0.0020177364349365234,
       "initial": 0,
       "n": 0,
       "ncols": null,
       "nrows": 53,
       "postfix": null,
       "prefix": "",
       "rate": null,
       "total": 503,
       "unit": "it",
       "unit_divisor": 1000,
       "unit_scale": false
      },
      "application/vnd.jupyter.widget-view+json": {
       "model_id": "fbb0805d02624bc596bcd0e426b93baf",
       "version_major": 2,
       "version_minor": 0
      },
      "text/plain": [
       "  0%|          | 0/503 [00:00<?, ?it/s]"
      ]
     },
     "metadata": {},
     "output_type": "display_data"
    },
    {
     "name": "stdout",
     "output_type": "stream",
     "text": [
      "Epoch 2/20, Loss: 0.22075827419757843, Training accuracy: 0.7197214623228053\n"
     ]
    },
    {
     "data": {
      "application/json": {
       "ascii": false,
       "bar_format": null,
       "colour": null,
       "elapsed": 0.0021390914916992188,
       "initial": 0,
       "n": 0,
       "ncols": null,
       "nrows": 53,
       "postfix": null,
       "prefix": "",
       "rate": null,
       "total": null,
       "unit": "it",
       "unit_divisor": 1000,
       "unit_scale": false
      },
      "application/vnd.jupyter.widget-view+json": {
       "model_id": "537c32f104fb4627ae71ae90cbc54bf4",
       "version_major": 2,
       "version_minor": 0
      },
      "text/plain": [
       "0it [00:00, ?it/s]"
      ]
     },
     "metadata": {},
     "output_type": "display_data"
    },
    {
     "name": "stdout",
     "output_type": "stream",
     "text": [
      "Epoch [2/20]  Accuracy: 0.745957711442786\n"
     ]
    },
    {
     "data": {
      "application/json": {
       "ascii": false,
       "bar_format": null,
       "colour": null,
       "elapsed": 0.002239704132080078,
       "initial": 0,
       "n": 0,
       "ncols": null,
       "nrows": 53,
       "postfix": null,
       "prefix": "",
       "rate": null,
       "total": 503,
       "unit": "it",
       "unit_divisor": 1000,
       "unit_scale": false
      },
      "application/vnd.jupyter.widget-view+json": {
       "model_id": "55e2098a0e94485bbc6f139d29ed6fb2",
       "version_major": 2,
       "version_minor": 0
      },
      "text/plain": [
       "  0%|          | 0/503 [00:00<?, ?it/s]"
      ]
     },
     "metadata": {},
     "output_type": "display_data"
    },
    {
     "name": "stdout",
     "output_type": "stream",
     "text": [
      "Epoch 3/20, Loss: 0.5656706094741821, Training accuracy: 0.7284257647351405\n"
     ]
    },
    {
     "data": {
      "application/json": {
       "ascii": false,
       "bar_format": null,
       "colour": null,
       "elapsed": 0.0021669864654541016,
       "initial": 0,
       "n": 0,
       "ncols": null,
       "nrows": 53,
       "postfix": null,
       "prefix": "",
       "rate": null,
       "total": null,
       "unit": "it",
       "unit_divisor": 1000,
       "unit_scale": false
      },
      "application/vnd.jupyter.widget-view+json": {
       "model_id": "4805e825a90e4fccb3bd81c8f006a70c",
       "version_major": 2,
       "version_minor": 0
      },
      "text/plain": [
       "0it [00:00, ?it/s]"
      ]
     },
     "metadata": {},
     "output_type": "display_data"
    },
    {
     "name": "stdout",
     "output_type": "stream",
     "text": [
      "Epoch [3/20]  Accuracy: 0.7468905472636815\n"
     ]
    },
    {
     "data": {
      "application/json": {
       "ascii": false,
       "bar_format": null,
       "colour": null,
       "elapsed": 0.001974821090698242,
       "initial": 0,
       "n": 0,
       "ncols": null,
       "nrows": 53,
       "postfix": null,
       "prefix": "",
       "rate": null,
       "total": 503,
       "unit": "it",
       "unit_divisor": 1000,
       "unit_scale": false
      },
      "application/vnd.jupyter.widget-view+json": {
       "model_id": "79791e18edd74a4693a8b03c56293eb7",
       "version_major": 2,
       "version_minor": 0
      },
      "text/plain": [
       "  0%|          | 0/503 [00:00<?, ?it/s]"
      ]
     },
     "metadata": {},
     "output_type": "display_data"
    },
    {
     "name": "stdout",
     "output_type": "stream",
     "text": [
      "Epoch 4/20, Loss: 0.4472316801548004, Training accuracy: 0.7406117881124098\n"
     ]
    },
    {
     "data": {
      "application/json": {
       "ascii": false,
       "bar_format": null,
       "colour": null,
       "elapsed": 0.0020749568939208984,
       "initial": 0,
       "n": 0,
       "ncols": null,
       "nrows": 53,
       "postfix": null,
       "prefix": "",
       "rate": null,
       "total": null,
       "unit": "it",
       "unit_divisor": 1000,
       "unit_scale": false
      },
      "application/vnd.jupyter.widget-view+json": {
       "model_id": "1cb00b5547aa414db0406139273d9a9e",
       "version_major": 2,
       "version_minor": 0
      },
      "text/plain": [
       "0it [00:00, ?it/s]"
      ]
     },
     "metadata": {},
     "output_type": "display_data"
    },
    {
     "name": "stdout",
     "output_type": "stream",
     "text": [
      "Epoch [4/20]  Accuracy: 0.7660136815920398\n"
     ]
    },
    {
     "data": {
      "application/json": {
       "ascii": false,
       "bar_format": null,
       "colour": null,
       "elapsed": 0.0026128292083740234,
       "initial": 0,
       "n": 0,
       "ncols": null,
       "nrows": 53,
       "postfix": null,
       "prefix": "",
       "rate": null,
       "total": 503,
       "unit": "it",
       "unit_divisor": 1000,
       "unit_scale": false
      },
      "application/vnd.jupyter.widget-view+json": {
       "model_id": "80dfb32ab96244d5999e161fbc18cb02",
       "version_major": 2,
       "version_minor": 0
      },
      "text/plain": [
       "  0%|          | 0/503 [00:00<?, ?it/s]"
      ]
     },
     "metadata": {},
     "output_type": "display_data"
    },
    {
     "name": "stdout",
     "output_type": "stream",
     "text": [
      "Epoch 5/20, Loss: 0.6933461427688599, Training accuracy: 0.7495647848793833\n"
     ]
    },
    {
     "data": {
      "application/json": {
       "ascii": false,
       "bar_format": null,
       "colour": null,
       "elapsed": 0.0020551681518554688,
       "initial": 0,
       "n": 0,
       "ncols": null,
       "nrows": 53,
       "postfix": null,
       "prefix": "",
       "rate": null,
       "total": null,
       "unit": "it",
       "unit_divisor": 1000,
       "unit_scale": false
      },
      "application/vnd.jupyter.widget-view+json": {
       "model_id": "4a83a43387fc4139a14d2d467c312e2e",
       "version_major": 2,
       "version_minor": 0
      },
      "text/plain": [
       "0it [00:00, ?it/s]"
      ]
     },
     "metadata": {},
     "output_type": "display_data"
    },
    {
     "name": "stdout",
     "output_type": "stream",
     "text": [
      "Epoch [5/20]  Accuracy: 0.7548196517412935\n"
     ]
    },
    {
     "data": {
      "application/json": {
       "ascii": false,
       "bar_format": null,
       "colour": null,
       "elapsed": 0.0019042491912841797,
       "initial": 0,
       "n": 0,
       "ncols": null,
       "nrows": 53,
       "postfix": null,
       "prefix": "",
       "rate": null,
       "total": 503,
       "unit": "it",
       "unit_divisor": 1000,
       "unit_scale": false
      },
      "application/vnd.jupyter.widget-view+json": {
       "model_id": "8446d2cd129744b6a156180663aaf7e0",
       "version_major": 2,
       "version_minor": 0
      },
      "text/plain": [
       "  0%|          | 0/503 [00:00<?, ?it/s]"
      ]
     },
     "metadata": {},
     "output_type": "display_data"
    },
    {
     "name": "stdout",
     "output_type": "stream",
     "text": [
      "Epoch 6/20, Loss: 0.08249319344758987, Training accuracy: 0.7527978114896792\n"
     ]
    },
    {
     "data": {
      "application/json": {
       "ascii": false,
       "bar_format": null,
       "colour": null,
       "elapsed": 0.0020835399627685547,
       "initial": 0,
       "n": 0,
       "ncols": null,
       "nrows": 53,
       "postfix": null,
       "prefix": "",
       "rate": null,
       "total": null,
       "unit": "it",
       "unit_divisor": 1000,
       "unit_scale": false
      },
      "application/vnd.jupyter.widget-view+json": {
       "model_id": "dcf35985f720434482ecab1e950546e6",
       "version_major": 2,
       "version_minor": 0
      },
      "text/plain": [
       "0it [00:00, ?it/s]"
      ]
     },
     "metadata": {},
     "output_type": "display_data"
    },
    {
     "name": "stdout",
     "output_type": "stream",
     "text": [
      "Epoch [6/20]  Accuracy: 0.7669465174129353\n"
     ]
    },
    {
     "data": {
      "application/json": {
       "ascii": false,
       "bar_format": null,
       "colour": null,
       "elapsed": 0.001890420913696289,
       "initial": 0,
       "n": 0,
       "ncols": null,
       "nrows": 53,
       "postfix": null,
       "prefix": "",
       "rate": null,
       "total": 503,
       "unit": "it",
       "unit_divisor": 1000,
       "unit_scale": false
      },
      "application/vnd.jupyter.widget-view+json": {
       "model_id": "f860ec2e2bc7462d96e41b3924b4e0d2",
       "version_major": 2,
       "version_minor": 0
      },
      "text/plain": [
       "  0%|          | 0/503 [00:00<?, ?it/s]"
      ]
     },
     "metadata": {},
     "output_type": "display_data"
    },
    {
     "name": "stdout",
     "output_type": "stream",
     "text": [
      "Epoch 7/20, Loss: 0.7747183442115784, Training accuracy: 0.7580203929370803\n"
     ]
    },
    {
     "data": {
      "application/json": {
       "ascii": false,
       "bar_format": null,
       "colour": null,
       "elapsed": 0.0020351409912109375,
       "initial": 0,
       "n": 0,
       "ncols": null,
       "nrows": 53,
       "postfix": null,
       "prefix": "",
       "rate": null,
       "total": null,
       "unit": "it",
       "unit_divisor": 1000,
       "unit_scale": false
      },
      "application/vnd.jupyter.widget-view+json": {
       "model_id": "ca9fab25c51a44d5bdfb2b74b853c9ed",
       "version_major": 2,
       "version_minor": 0
      },
      "text/plain": [
       "0it [00:00, ?it/s]"
      ]
     },
     "metadata": {},
     "output_type": "display_data"
    },
    {
     "name": "stdout",
     "output_type": "stream",
     "text": [
      "Epoch [7/20]  Accuracy: 0.7720771144278606\n"
     ]
    },
    {
     "data": {
      "application/json": {
       "ascii": false,
       "bar_format": null,
       "colour": null,
       "elapsed": 0.0018582344055175781,
       "initial": 0,
       "n": 0,
       "ncols": null,
       "nrows": 53,
       "postfix": null,
       "prefix": "",
       "rate": null,
       "total": 503,
       "unit": "it",
       "unit_divisor": 1000,
       "unit_scale": false
      },
      "application/vnd.jupyter.widget-view+json": {
       "model_id": "70a492b232fe43ed8d342a87b52fe104",
       "version_major": 2,
       "version_minor": 0
      },
      "text/plain": [
       "  0%|          | 0/503 [00:00<?, ?it/s]"
      ]
     },
     "metadata": {},
     "output_type": "display_data"
    },
    {
     "name": "stdout",
     "output_type": "stream",
     "text": [
      "Epoch 8/20, Loss: 0.5288785696029663, Training accuracy: 0.7597612534195474\n"
     ]
    },
    {
     "data": {
      "application/json": {
       "ascii": false,
       "bar_format": null,
       "colour": null,
       "elapsed": 0.002008199691772461,
       "initial": 0,
       "n": 0,
       "ncols": null,
       "nrows": 53,
       "postfix": null,
       "prefix": "",
       "rate": null,
       "total": null,
       "unit": "it",
       "unit_divisor": 1000,
       "unit_scale": false
      },
      "application/vnd.jupyter.widget-view+json": {
       "model_id": "0e85791b07bd464da72308b21940fa64",
       "version_major": 2,
       "version_minor": 0
      },
      "text/plain": [
       "0it [00:00, ?it/s]"
      ]
     },
     "metadata": {},
     "output_type": "display_data"
    },
    {
     "name": "stdout",
     "output_type": "stream",
     "text": [
      "Epoch [8/20]  Accuracy: 0.7613495024875622\n"
     ]
    },
    {
     "data": {
      "application/json": {
       "ascii": false,
       "bar_format": null,
       "colour": null,
       "elapsed": 0.00206756591796875,
       "initial": 0,
       "n": 0,
       "ncols": null,
       "nrows": 53,
       "postfix": null,
       "prefix": "",
       "rate": null,
       "total": 503,
       "unit": "it",
       "unit_divisor": 1000,
       "unit_scale": false
      },
      "application/vnd.jupyter.widget-view+json": {
       "model_id": "b57784721b11493c9853a594533e2e1e",
       "version_major": 2,
       "version_minor": 0
      },
      "text/plain": [
       "  0%|          | 0/503 [00:00<?, ?it/s]"
      ]
     },
     "metadata": {},
     "output_type": "display_data"
    },
    {
     "name": "stdout",
     "output_type": "stream",
     "text": [
      "Epoch 9/20, Loss: 0.15270616114139557, Training accuracy: 0.7610047251927381\n"
     ]
    },
    {
     "data": {
      "application/json": {
       "ascii": false,
       "bar_format": null,
       "colour": null,
       "elapsed": 0.002126455307006836,
       "initial": 0,
       "n": 0,
       "ncols": null,
       "nrows": 53,
       "postfix": null,
       "prefix": "",
       "rate": null,
       "total": null,
       "unit": "it",
       "unit_divisor": 1000,
       "unit_scale": false
      },
      "application/vnd.jupyter.widget-view+json": {
       "model_id": "04398c019b1a4c10bf78b47420ad185c",
       "version_major": 2,
       "version_minor": 0
      },
      "text/plain": [
       "0it [00:00, ?it/s]"
      ]
     },
     "metadata": {},
     "output_type": "display_data"
    },
    {
     "name": "stdout",
     "output_type": "stream",
     "text": [
      "Epoch [9/20]  Accuracy: 0.7730099502487562\n"
     ]
    },
    {
     "data": {
      "application/json": {
       "ascii": false,
       "bar_format": null,
       "colour": null,
       "elapsed": 0.002048015594482422,
       "initial": 0,
       "n": 0,
       "ncols": null,
       "nrows": 53,
       "postfix": null,
       "prefix": "",
       "rate": null,
       "total": 503,
       "unit": "it",
       "unit_divisor": 1000,
       "unit_scale": false
      },
      "application/vnd.jupyter.widget-view+json": {
       "model_id": "fcb093f8665140a59b72caaef0af82d3",
       "version_major": 2,
       "version_minor": 0
      },
      "text/plain": [
       "  0%|          | 0/503 [00:00<?, ?it/s]"
      ]
     },
     "metadata": {},
     "output_type": "display_data"
    },
    {
     "name": "stdout",
     "output_type": "stream",
     "text": [
      "Epoch 10/20, Loss: 0.5572280883789062, Training accuracy: 0.7627455856752051\n"
     ]
    },
    {
     "data": {
      "application/json": {
       "ascii": false,
       "bar_format": null,
       "colour": null,
       "elapsed": 0.002108335494995117,
       "initial": 0,
       "n": 0,
       "ncols": null,
       "nrows": 53,
       "postfix": null,
       "prefix": "",
       "rate": null,
       "total": null,
       "unit": "it",
       "unit_divisor": 1000,
       "unit_scale": false
      },
      "application/vnd.jupyter.widget-view+json": {
       "model_id": "e31b23493c8544cea2c7b9be3b06f51b",
       "version_major": 2,
       "version_minor": 0
      },
      "text/plain": [
       "0it [00:00, ?it/s]"
      ]
     },
     "metadata": {},
     "output_type": "display_data"
    },
    {
     "name": "stdout",
     "output_type": "stream",
     "text": [
      "Epoch [10/20]  Accuracy: 0.7688121890547264\n"
     ]
    },
    {
     "data": {
      "application/json": {
       "ascii": false,
       "bar_format": null,
       "colour": null,
       "elapsed": 0.001992464065551758,
       "initial": 0,
       "n": 0,
       "ncols": null,
       "nrows": 53,
       "postfix": null,
       "prefix": "",
       "rate": null,
       "total": 503,
       "unit": "it",
       "unit_divisor": 1000,
       "unit_scale": false
      },
      "application/vnd.jupyter.widget-view+json": {
       "model_id": "8d434517430d488182d23d414d50e41f",
       "version_major": 2,
       "version_minor": 0
      },
      "text/plain": [
       "  0%|          | 0/503 [00:00<?, ?it/s]"
      ]
     },
     "metadata": {},
     "output_type": "display_data"
    },
    {
     "name": "stdout",
     "output_type": "stream",
     "text": [
      "Epoch 11/20, Loss: 0.6232172250747681, Training accuracy: 0.7644864461576723\n"
     ]
    },
    {
     "data": {
      "application/json": {
       "ascii": false,
       "bar_format": null,
       "colour": null,
       "elapsed": 0.002041339874267578,
       "initial": 0,
       "n": 0,
       "ncols": null,
       "nrows": 53,
       "postfix": null,
       "prefix": "",
       "rate": null,
       "total": null,
       "unit": "it",
       "unit_divisor": 1000,
       "unit_scale": false
      },
      "application/vnd.jupyter.widget-view+json": {
       "model_id": "89e49bd431db42a1bf90bfc0ab6f442c",
       "version_major": 2,
       "version_minor": 0
      },
      "text/plain": [
       "0it [00:00, ?it/s]"
      ]
     },
     "metadata": {},
     "output_type": "display_data"
    },
    {
     "name": "stdout",
     "output_type": "stream",
     "text": [
      "Epoch [11/20]  Accuracy: 0.7828047263681591\n"
     ]
    },
    {
     "data": {
      "application/json": {
       "ascii": false,
       "bar_format": null,
       "colour": null,
       "elapsed": 0.0020513534545898438,
       "initial": 0,
       "n": 0,
       "ncols": null,
       "nrows": 53,
       "postfix": null,
       "prefix": "",
       "rate": null,
       "total": 503,
       "unit": "it",
       "unit_divisor": 1000,
       "unit_scale": false
      },
      "application/vnd.jupyter.widget-view+json": {
       "model_id": "b15c522e9fc54994b8ef4004b387af44",
       "version_major": 2,
       "version_minor": 0
      },
      "text/plain": [
       "  0%|          | 0/503 [00:00<?, ?it/s]"
      ]
     },
     "metadata": {},
     "output_type": "display_data"
    },
    {
     "name": "stdout",
     "output_type": "stream",
     "text": [
      "Epoch 12/20, Loss: 0.44895705580711365, Training accuracy: 0.7637403630937578\n"
     ]
    },
    {
     "data": {
      "application/json": {
       "ascii": false,
       "bar_format": null,
       "colour": null,
       "elapsed": 0.0021522045135498047,
       "initial": 0,
       "n": 0,
       "ncols": null,
       "nrows": 53,
       "postfix": null,
       "prefix": "",
       "rate": null,
       "total": null,
       "unit": "it",
       "unit_divisor": 1000,
       "unit_scale": false
      },
      "application/vnd.jupyter.widget-view+json": {
       "model_id": "25bbd03990c74ed089cff15b97a88110",
       "version_major": 2,
       "version_minor": 0
      },
      "text/plain": [
       "0it [00:00, ?it/s]"
      ]
     },
     "metadata": {},
     "output_type": "display_data"
    },
    {
     "name": "stdout",
     "output_type": "stream",
     "text": [
      "Epoch [12/20]  Accuracy: 0.7786069651741293\n"
     ]
    },
    {
     "data": {
      "application/json": {
       "ascii": false,
       "bar_format": null,
       "colour": null,
       "elapsed": 0.0020601749420166016,
       "initial": 0,
       "n": 0,
       "ncols": null,
       "nrows": 53,
       "postfix": null,
       "prefix": "",
       "rate": null,
       "total": 503,
       "unit": "it",
       "unit_divisor": 1000,
       "unit_scale": false
      },
      "application/vnd.jupyter.widget-view+json": {
       "model_id": "e89ed02fe4144fe6a0e88f4b0e5b94a1",
       "version_major": 2,
       "version_minor": 0
      },
      "text/plain": [
       "  0%|          | 0/503 [00:00<?, ?it/s]"
      ]
     },
     "metadata": {},
     "output_type": "display_data"
    },
    {
     "name": "stdout",
     "output_type": "stream",
     "text": [
      "Epoch 13/20, Loss: 0.8275815844535828, Training accuracy: 0.7764237751803034\n"
     ]
    },
    {
     "data": {
      "application/json": {
       "ascii": false,
       "bar_format": null,
       "colour": null,
       "elapsed": 0.002057790756225586,
       "initial": 0,
       "n": 0,
       "ncols": null,
       "nrows": 53,
       "postfix": null,
       "prefix": "",
       "rate": null,
       "total": null,
       "unit": "it",
       "unit_divisor": 1000,
       "unit_scale": false
      },
      "application/vnd.jupyter.widget-view+json": {
       "model_id": "35c2b3e0f29d4058886710ed5aec5adb",
       "version_major": 2,
       "version_minor": 0
      },
      "text/plain": [
       "0it [00:00, ?it/s]"
      ]
     },
     "metadata": {},
     "output_type": "display_data"
    },
    {
     "name": "stdout",
     "output_type": "stream",
     "text": [
      "Epoch [13/20]  Accuracy: 0.777518656716418\n"
     ]
    },
    {
     "data": {
      "application/json": {
       "ascii": false,
       "bar_format": null,
       "colour": null,
       "elapsed": 0.0019791126251220703,
       "initial": 0,
       "n": 0,
       "ncols": null,
       "nrows": 53,
       "postfix": null,
       "prefix": "",
       "rate": null,
       "total": 503,
       "unit": "it",
       "unit_divisor": 1000,
       "unit_scale": false
      },
      "application/vnd.jupyter.widget-view+json": {
       "model_id": "68f02783b88d4e5c92f9f42edee5e75b",
       "version_major": 2,
       "version_minor": 0
      },
      "text/plain": [
       "  0%|          | 0/503 [00:00<?, ?it/s]"
      ]
     },
     "metadata": {},
     "output_type": "display_data"
    },
    {
     "name": "stdout",
     "output_type": "stream",
     "text": [
      "Epoch 14/20, Loss: 0.7952988147735596, Training accuracy: 0.7771698582442178\n"
     ]
    },
    {
     "data": {
      "application/json": {
       "ascii": false,
       "bar_format": null,
       "colour": null,
       "elapsed": 0.002086639404296875,
       "initial": 0,
       "n": 0,
       "ncols": null,
       "nrows": 53,
       "postfix": null,
       "prefix": "",
       "rate": null,
       "total": null,
       "unit": "it",
       "unit_divisor": 1000,
       "unit_scale": false
      },
      "application/vnd.jupyter.widget-view+json": {
       "model_id": "33a579a570c745d3aa9b10824fcb9cd8",
       "version_major": 2,
       "version_minor": 0
      },
      "text/plain": [
       "0it [00:00, ?it/s]"
      ]
     },
     "metadata": {},
     "output_type": "display_data"
    },
    {
     "name": "stdout",
     "output_type": "stream",
     "text": [
      "Epoch [14/20]  Accuracy: 0.7837375621890547\n"
     ]
    },
    {
     "data": {
      "application/json": {
       "ascii": false,
       "bar_format": null,
       "colour": null,
       "elapsed": 0.0019328594207763672,
       "initial": 0,
       "n": 0,
       "ncols": null,
       "nrows": 53,
       "postfix": null,
       "prefix": "",
       "rate": null,
       "total": 503,
       "unit": "it",
       "unit_divisor": 1000,
       "unit_scale": false
      },
      "application/vnd.jupyter.widget-view+json": {
       "model_id": "0dfaf02d89f543f58a743a9bc6c6d7f3",
       "version_major": 2,
       "version_minor": 0
      },
      "text/plain": [
       "  0%|          | 0/503 [00:00<?, ?it/s]"
      ]
     },
     "metadata": {},
     "output_type": "display_data"
    },
    {
     "name": "stdout",
     "output_type": "stream",
     "text": [
      "Epoch 15/20, Loss: 0.5941692590713501, Training accuracy: 0.7791594130813231\n"
     ]
    },
    {
     "data": {
      "application/json": {
       "ascii": false,
       "bar_format": null,
       "colour": null,
       "elapsed": 0.0020346641540527344,
       "initial": 0,
       "n": 0,
       "ncols": null,
       "nrows": 53,
       "postfix": null,
       "prefix": "",
       "rate": null,
       "total": null,
       "unit": "it",
       "unit_divisor": 1000,
       "unit_scale": false
      },
      "application/vnd.jupyter.widget-view+json": {
       "model_id": "fa68b51bd19f403aa91e2815f9ac87a0",
       "version_major": 2,
       "version_minor": 0
      },
      "text/plain": [
       "0it [00:00, ?it/s]"
      ]
     },
     "metadata": {},
     "output_type": "display_data"
    },
    {
     "name": "stdout",
     "output_type": "stream",
     "text": [
      "Epoch [15/20]  Accuracy: 0.7688121890547264\n"
     ]
    },
    {
     "data": {
      "application/json": {
       "ascii": false,
       "bar_format": null,
       "colour": null,
       "elapsed": 0.002065896987915039,
       "initial": 0,
       "n": 0,
       "ncols": null,
       "nrows": 53,
       "postfix": null,
       "prefix": "",
       "rate": null,
       "total": 503,
       "unit": "it",
       "unit_divisor": 1000,
       "unit_scale": false
      },
      "application/vnd.jupyter.widget-view+json": {
       "model_id": "618528efc2844f4e8f6cef2da540b450",
       "version_major": 2,
       "version_minor": 0
      },
      "text/plain": [
       "  0%|          | 0/503 [00:00<?, ?it/s]"
      ]
     },
     "metadata": {},
     "output_type": "display_data"
    },
    {
     "name": "stdout",
     "output_type": "stream",
     "text": [
      "Epoch 16/20, Loss: 0.20964916050434113, Training accuracy: 0.7769211638895797\n"
     ]
    },
    {
     "data": {
      "application/json": {
       "ascii": false,
       "bar_format": null,
       "colour": null,
       "elapsed": 0.0020563602447509766,
       "initial": 0,
       "n": 0,
       "ncols": null,
       "nrows": 53,
       "postfix": null,
       "prefix": "",
       "rate": null,
       "total": null,
       "unit": "it",
       "unit_divisor": 1000,
       "unit_scale": false
      },
      "application/vnd.jupyter.widget-view+json": {
       "model_id": "96879758fcb342fb95d1b14d393ff0d5",
       "version_major": 2,
       "version_minor": 0
      },
      "text/plain": [
       "0it [00:00, ?it/s]"
      ]
     },
     "metadata": {},
     "output_type": "display_data"
    },
    {
     "name": "stdout",
     "output_type": "stream",
     "text": [
      "Epoch [16/20]  Accuracy: 0.7860696517412935\n"
     ]
    },
    {
     "data": {
      "application/json": {
       "ascii": false,
       "bar_format": null,
       "colour": null,
       "elapsed": 0.0019507408142089844,
       "initial": 0,
       "n": 0,
       "ncols": null,
       "nrows": 53,
       "postfix": null,
       "prefix": "",
       "rate": null,
       "total": 503,
       "unit": "it",
       "unit_divisor": 1000,
       "unit_scale": false
      },
      "application/vnd.jupyter.widget-view+json": {
       "model_id": "1ad889d275df4c2089c9eb91433680f4",
       "version_major": 2,
       "version_minor": 0
      },
      "text/plain": [
       "  0%|          | 0/503 [00:00<?, ?it/s]"
      ]
     },
     "metadata": {},
     "output_type": "display_data"
    },
    {
     "name": "stdout",
     "output_type": "stream",
     "text": [
      "Epoch 17/20, Loss: 0.4575260281562805, Training accuracy: 0.7843819945287241\n"
     ]
    },
    {
     "data": {
      "application/json": {
       "ascii": false,
       "bar_format": null,
       "colour": null,
       "elapsed": 0.002246856689453125,
       "initial": 0,
       "n": 0,
       "ncols": null,
       "nrows": 53,
       "postfix": null,
       "prefix": "",
       "rate": null,
       "total": null,
       "unit": "it",
       "unit_divisor": 1000,
       "unit_scale": false
      },
      "application/vnd.jupyter.widget-view+json": {
       "model_id": "05bd00c440f5470488ae0d085f45e706",
       "version_major": 2,
       "version_minor": 0
      },
      "text/plain": [
       "0it [00:00, ?it/s]"
      ]
     },
     "metadata": {},
     "output_type": "display_data"
    },
    {
     "name": "stdout",
     "output_type": "stream",
     "text": [
      "Epoch [17/20]  Accuracy: 0.7921330845771144\n"
     ]
    },
    {
     "data": {
      "application/json": {
       "ascii": false,
       "bar_format": null,
       "colour": null,
       "elapsed": 0.002161264419555664,
       "initial": 0,
       "n": 0,
       "ncols": null,
       "nrows": 53,
       "postfix": null,
       "prefix": "",
       "rate": null,
       "total": 503,
       "unit": "it",
       "unit_divisor": 1000,
       "unit_scale": false
      },
      "application/vnd.jupyter.widget-view+json": {
       "model_id": "d965b211e51c42159706893176046410",
       "version_major": 2,
       "version_minor": 0
      },
      "text/plain": [
       "  0%|          | 0/503 [00:00<?, ?it/s]"
      ]
     },
     "metadata": {},
     "output_type": "display_data"
    },
    {
     "name": "stdout",
     "output_type": "stream",
     "text": [
      "Epoch 18/20, Loss: 0.6169818639755249, Training accuracy: 0.7811489679184282\n"
     ]
    },
    {
     "data": {
      "application/json": {
       "ascii": false,
       "bar_format": null,
       "colour": null,
       "elapsed": 0.0021305084228515625,
       "initial": 0,
       "n": 0,
       "ncols": null,
       "nrows": 53,
       "postfix": null,
       "prefix": "",
       "rate": null,
       "total": null,
       "unit": "it",
       "unit_divisor": 1000,
       "unit_scale": false
      },
      "application/vnd.jupyter.widget-view+json": {
       "model_id": "d50a262177b54b81844a77d796cb51f2",
       "version_major": 2,
       "version_minor": 0
      },
      "text/plain": [
       "0it [00:00, ?it/s]"
      ]
     },
     "metadata": {},
     "output_type": "display_data"
    },
    {
     "name": "stdout",
     "output_type": "stream",
     "text": [
      "Epoch [18/20]  Accuracy: 0.7840485074626866\n"
     ]
    },
    {
     "data": {
      "application/json": {
       "ascii": false,
       "bar_format": null,
       "colour": null,
       "elapsed": 0.0018830299377441406,
       "initial": 0,
       "n": 0,
       "ncols": null,
       "nrows": 53,
       "postfix": null,
       "prefix": "",
       "rate": null,
       "total": 503,
       "unit": "it",
       "unit_divisor": 1000,
       "unit_scale": false
      },
      "application/vnd.jupyter.widget-view+json": {
       "model_id": "25e588a2093f4dd89ea36c7c80e76be6",
       "version_major": 2,
       "version_minor": 0
      },
      "text/plain": [
       "  0%|          | 0/503 [00:00<?, ?it/s]"
      ]
     },
     "metadata": {},
     "output_type": "display_data"
    },
    {
     "name": "stdout",
     "output_type": "stream",
     "text": [
      "Epoch 19/20, Loss: 1.1779961585998535, Training accuracy: 0.7816463566277045\n"
     ]
    },
    {
     "data": {
      "application/json": {
       "ascii": false,
       "bar_format": null,
       "colour": null,
       "elapsed": 0.002081632614135742,
       "initial": 0,
       "n": 0,
       "ncols": null,
       "nrows": 53,
       "postfix": null,
       "prefix": "",
       "rate": null,
       "total": null,
       "unit": "it",
       "unit_divisor": 1000,
       "unit_scale": false
      },
      "application/vnd.jupyter.widget-view+json": {
       "model_id": "3bbac08f25194565a1977dd0d4d0f5d0",
       "version_major": 2,
       "version_minor": 0
      },
      "text/plain": [
       "0it [00:00, ?it/s]"
      ]
     },
     "metadata": {},
     "output_type": "display_data"
    },
    {
     "name": "stdout",
     "output_type": "stream",
     "text": [
      "Epoch [19/20]  Accuracy: 0.7737873134328358\n"
     ]
    },
    {
     "data": {
      "application/json": {
       "ascii": false,
       "bar_format": null,
       "colour": null,
       "elapsed": 0.0019626617431640625,
       "initial": 0,
       "n": 0,
       "ncols": null,
       "nrows": 53,
       "postfix": null,
       "prefix": "",
       "rate": null,
       "total": 503,
       "unit": "it",
       "unit_divisor": 1000,
       "unit_scale": false
      },
      "application/vnd.jupyter.widget-view+json": {
       "model_id": "05519319ad8848e89065b0390276e128",
       "version_major": 2,
       "version_minor": 0
      },
      "text/plain": [
       "  0%|          | 0/503 [00:00<?, ?it/s]"
      ]
     },
     "metadata": {},
     "output_type": "display_data"
    },
    {
     "name": "stdout",
     "output_type": "stream",
     "text": [
      "Epoch 20/20, Loss: 0.3746304512023926, Training accuracy: 0.7901019646854016\n"
     ]
    },
    {
     "data": {
      "application/json": {
       "ascii": false,
       "bar_format": null,
       "colour": null,
       "elapsed": 0.002159595489501953,
       "initial": 0,
       "n": 0,
       "ncols": null,
       "nrows": 53,
       "postfix": null,
       "prefix": "",
       "rate": null,
       "total": null,
       "unit": "it",
       "unit_divisor": 1000,
       "unit_scale": false
      },
      "application/vnd.jupyter.widget-view+json": {
       "model_id": "8362ebc1388b4f22a85e4200b13f18bf",
       "version_major": 2,
       "version_minor": 0
      },
      "text/plain": [
       "0it [00:00, ?it/s]"
      ]
     },
     "metadata": {},
     "output_type": "display_data"
    },
    {
     "name": "stdout",
     "output_type": "stream",
     "text": [
      "Epoch [20/20]  Accuracy: 0.7935323383084577\n"
     ]
    }
   ],
   "source": [
    "model.to(device)\n",
    "model.train()\n",
    "from itertools import islice\n",
    "\n",
    "metric= load_metric(\"accuracy\")\n",
    "save_acc = False\n",
    "acc_list = []\n",
    "num_epochs = 30\n",
    "for epoch in range(num_epochs):\n",
    "    train_correct_predictions = 0\n",
    "    train_total_predictions = 0\n",
    "    training_accuracy = 0\n",
    "    # for samples, labels in islice(tqdm(train_loader), 2):\n",
    "    for samples, labels in tqdm(train_loader):\n",
    "        # print(batch.shape)\n",
    "        optimizer.zero_grad()\n",
    "        samples = samples.to(device, non_blocking=True)\n",
    "        labels = labels.to(device, non_blocking=True)\n",
    "        \n",
    "        # inputs = feature_extractor(images=samples, return_tensors=\"pt\").pixel_values.to(model.device)\n",
    "        image_features = model.encode_image(samples)\n",
    "        # outputs = model(samples, labels=labels)\n",
    "        # loss = outputs.loss\n",
    "        logits = model.visual.predict(image_features)\n",
    "\n",
    "        # print(logits)\n",
    "        loss = criterion(logits, labels)\n",
    "        # Backward pass\n",
    "        optimizer.zero_grad()\n",
    "        loss.backward()\n",
    "        # lr_scheduler.step()\n",
    "        optimizer.step()\n",
    "\n",
    "        _, predicted = torch.max(logits.data, 1)  # gives us the index of the highest value\n",
    "        train_total_predictions += labels.size(0)  # add total\n",
    "        train_correct_predictions += (predicted == labels).sum().item()\n",
    "        training_accuracy = train_correct_predictions / train_total_predictions\n",
    "    print(f\"Epoch {epoch + 1}/{num_epochs}, Loss: {loss.item()}, Training accuracy: {training_accuracy}\")\n",
    "    ### Add the commands to save the trained model. \n",
    "    model.eval()\n",
    "    # if epoch == 4:\n",
    "    #     save_acc = True                                                                                                           \n",
    "    with torch.no_grad():\n",
    "        total_accuracy = 0\n",
    "        total_batches = 0\n",
    "        # for i, (images, labels) in islice(tqdm(enumerate(test_laoder)), 2):\n",
    "        for i, (images, labels) in tqdm(enumerate(test_laoder)):\n",
    "            images = images.to(device)\n",
    "            labels = labels.to(device)\n",
    "\n",
    "            # inputs = feature_extractor(images=images, return_tensors=\"pt\").pixel_values.to(model.device)\n",
    "            # outputs = model(images)\n",
    "\n",
    "            image_features = model.encode_image(images)\n",
    "            # outputs = model(samples, labels=labels)\n",
    "            # loss = outputs.loss\n",
    "            logits = model.visual.predict(image_features)\n",
    "            # print(outputs.logits)\n",
    "\n",
    "            predictions = torch.argmax(logits.data, 1)\n",
    "            \n",
    "            # print(predictions)\n",
    "            # metric.add_batch(predictions=predictions, references=labels)\n",
    "            accuracy = metric.compute(predictions=predictions.tolist(), references=labels.tolist())[\"accuracy\"]\n",
    "            if save_acc:\n",
    "                acc_list.append(accuracy)\n",
    "            # print('the {} th image: {:.2f}'.format(str(i), accuracy))\n",
    "            total_accuracy += accuracy\n",
    "            total_batches += 1\n",
    "\n",
    "        # metric.compute()\n",
    "        average_accuracy = total_accuracy / total_batches\n",
    "        print(f\"Epoch [{epoch+1}/{num_epochs}]  Accuracy: {average_accuracy}\")\n",
    "       \n",
    "    model.train()"
   ]
  },
  {
   "cell_type": "markdown",
   "id": "916a1993-9de4-489e-8f36-b7e32235de2e",
   "metadata": {},
   "source": [
    "## This function is copied from the github website."
   ]
  },
  {
   "cell_type": "code",
   "execution_count": null,
   "id": "7e518dea-7aef-45d3-8730-77fab06262f0",
   "metadata": {},
   "outputs": [],
   "source": [
    "def run_zero_shot(model_name, data_dict, pre_trained_path='', context_lenght=77, wrks=0, bsz=8, device='gpu'):\n",
    "    model, pct, pv = open_clip.create_model_and_transforms(model_name, pretrained=pre_trained_path)\n",
    "    tokenizer = open_clip.get_tokenizer(model_name)\n",
    "\n",
    "    model.to(device)\n",
    "    model.eval()\n",
    "\n",
    "    res = {}\n",
    "    for data_name, data in data_dict.items():  \n",
    "        labels = data.classes\n",
    "        print(labels)\n",
    "        \n",
    "        templates = [\"a histopathology slide showing {c}\",\n",
    "            \"histopathology image of {c}\",\n",
    "            \"pathology tissue showing {c}\",\n",
    "            \"presence of {c} tissue on image\"]\n",
    "        \n",
    "        if pv:\n",
    "            data.transform = pv\n",
    "\n",
    "        loader = torch.utils.data.DataLoader(data, batch_size=bsz, \n",
    "                                             shuffle=True, num_workers=wrks,\n",
    "                                             pin_memory=False\n",
    "                                            )\n",
    "\n",
    "        pred = []\n",
    "        true = []\n",
    "\n",
    "        for images, target in tqdm(loader):\n",
    "            images, target = images.to(device), target.to(device)\n",
    "\n",
    "            with torch.no_grad(): \n",
    "                image_features = model.encode_image(images, normalize=True)\n",
    "\n",
    "                zeroshot_weights = []\n",
    "                for classname in labels:\n",
    "                    texts = [template.format(c=classname) for template in templates]\n",
    "                    texts = tokenizer(texts).to(device)  # tokenize\n",
    "                    class_embeddings = model.encode_text(texts)\n",
    "                    class_embedding = F.normalize(class_embeddings, dim=-1).mean(dim=0)\n",
    "                    class_embedding /= class_embedding.norm()\n",
    "                    zeroshot_weights.append(class_embedding)\n",
    "                    \n",
    "                zeroshot_weights = torch.stack(zeroshot_weights, dim=1).to(device)\n",
    "                logits = (100. * image_features @ zeroshot_weights).detach()#.softmax(dim=-1)\n",
    "\n",
    "                true.append(target.cpu())\n",
    "                pred.append(logits.float().cpu())\n",
    "\n",
    "        pred = torch.cat(pred)\n",
    "        true = torch.cat(true)\n",
    "\n",
    "        topk = (1,)\n",
    "        pred_n = pred.topk(max(topk), 1, True, True)[1].t()\n",
    "        correct = pred_n.eq(true.view(1, -1).expand_as(pred_n))\n",
    "        n = len(true)\n",
    "        res[data_name] = [float(correct[:k].reshape(-1).float().sum(0, keepdim=True).cpu().numpy()) / n for k in topk][0]\n",
    "        print(res)\n",
    "    return res"
   ]
  },
  {
   "cell_type": "code",
   "execution_count": null,
   "id": "bf3dddf7-f20c-4d74-a474-400aaf807c6d",
   "metadata": {},
   "outputs": [],
   "source": [
    "from transformers import ViTFeatureExtractor, ViTForImageClassification\n",
    "from PIL import Image\n",
    "import requests\n",
    "import torch\n",
    "import torch.nn as nn\n",
    "from tqdm import tqdm \n",
    "from transformers import get_scheduler\n",
    "from datasets import load_metric\n",
    "from tqdm import tqdm\n",
    "import cv2\n",
    "\n",
    "torch.cuda.empty_cache()\n",
    "num_epochs = 20\n",
    "optimizer = torch.optim.AdamW(model.parameters(), lr=5e-5)\n",
    "\n",
    "\n",
    "# num_training_steps = num_epochs * len(train_loader)\n",
    "# lr_scheduler = get_scheduler(\n",
    "#     \"linear\",\n",
    "#     optimizer=optimizer,\n",
    "#     num_warmup_steps=0,\n",
    "#     num_training_steps=num_training_steps\n",
    "# )\n",
    "\n",
    "model.to(device)\n",
    "model.train()\n",
    "\n",
    "metric= load_metric(\"accuracy\")\n",
    "save_acc = False\n",
    "acc_list = []\n",
    "for epoch in range(num_epochs):\n",
    "    for samples, labels in tqdm(train_loader):\n",
    "        # print(batch.shape)\n",
    "        optimizer.zero_grad()\n",
    "        samples = samples.to(device, non_blocking=True)\n",
    "        labels = labels.to(device, non_blocking=True)\n",
    "        \n",
    "        # inputs = feature_extractor(images=samples, return_tensors=\"pt\").pixel_values.to(model.device)\n",
    "        outputs = model(samples, labels=labels)\n",
    "        loss = outputs.loss\n",
    "        \n",
    "        # Backward pass\n",
    "        optimizer.zero_grad()\n",
    "        loss.backward()\n",
    "        # lr_scheduler.step()\n",
    "        optimizer.step()\n",
    "        \n",
    "        # loss_accum += loss.item()\n",
    "    print(f\"Epoch [{epoch+1}/{num_epochs}] Loss: {loss.item()}\")\n",
    "    ### Add the commands to save the trained model. \n",
    "    model.eval()\n",
    "    if epoch == 4:\n",
    "        save_acc = True                                                                                                           \n",
    "    with torch.no_grad():\n",
    "        total_accuracy = 0\n",
    "        total_batches = 0\n",
    "        for i, (images, labels) in tqdm(enumerate(test_laoder)):\n",
    "            images = images.to(model.device)\n",
    "            labels = labels.to(model.device)\n",
    "\n",
    "            # inputs = feature_extractor(images=images, return_tensors=\"pt\").pixel_values.to(model.device)\n",
    "            outputs = model(images, labels=labels)\n",
    "            # print(outputs.logits)\n",
    "\n",
    "            predictions = torch.argmax(outputs.logits, 1)\n",
    "            # print(predictions)\n",
    "            # metric.add_batch(predictions=predictions, references=labels)\n",
    "            accuracy = metric.compute(predictions=predictions.tolist(), references=labels.tolist())[\"accuracy\"]\n",
    "            if save_acc:\n",
    "                acc_list.append(accuracy)\n",
    "            # print('the {} th image: {:.2f}'.format(str(i), accuracy))\n",
    "            total_accuracy += accuracy\n",
    "            total_batches += 1\n",
    "\n",
    "        # metric.compute()\n",
    "        average_accuracy = total_accuracy / total_batches\n",
    "        print(f\"Epoch [{epoch+1}/{num_epochs}]  Accuracy: {average_accuracy}\")\n",
    "       \n",
    "    model.train()"
   ]
  }
 ],
 "metadata": {
  "kernelspec": {
   "display_name": "Python 3 (ipykernel)",
   "language": "python",
   "name": "python3"
  },
  "language_info": {
   "codemirror_mode": {
    "name": "ipython",
    "version": 3
   },
   "file_extension": ".py",
   "mimetype": "text/x-python",
   "name": "python",
   "nbconvert_exporter": "python",
   "pygments_lexer": "ipython3",
   "version": "3.9.19"
  }
 },
 "nbformat": 4,
 "nbformat_minor": 5
}
